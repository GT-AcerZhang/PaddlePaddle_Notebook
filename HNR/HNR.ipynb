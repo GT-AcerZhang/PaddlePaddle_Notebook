{
 "cells": [
  {
   "cell_type": "code",
   "execution_count": 1,
   "metadata": {
    "collapsed": false
   },
   "outputs": [],
   "source": [
    "import paddle\r\n",
    "import paddle.fluid as fluid\r\n",
    "import paddle.dataset as pd\r\n",
    "import numpy as np\r\n",
    "\r\n",
    "from paddle.fluid.dygraph.nn import Conv2D, Pool2D\r\n",
    "from paddle.fluid.optimizer import AdamOptimizer\r\n",
    "from paddle.fluid.dygraph.base import to_variable"
   ]
  },
  {
   "cell_type": "code",
   "execution_count": 2,
   "metadata": {
    "collapsed": false
   },
   "outputs": [],
   "source": [
    "# Defining hyperparameter\r\n",
    "\r\n",
    "BATCH_SIZE = 64\r\n",
    "RL = 0.001\r\n",
    "EPOCHS = 10\r\n",
    "FULL_SIZE = 10\r\n",
    "USE_CUDA = True\r\n",
    "ACT = \"relu\"\r\n"
   ]
  },
  {
   "cell_type": "code",
   "execution_count": 3,
   "metadata": {
    "collapsed": false
   },
   "outputs": [],
   "source": [
    "# Constructing the reader\r\n",
    "train_reader = paddle.batch(\r\n",
    "    pd.mnist.train(), batch_size=BATCH_SIZE, drop_last=True)\r\n",
    "test_reader = paddle.batch(\r\n",
    "    pd.mnist.test(), batch_size=BATCH_SIZE, drop_last=True)"
   ]
  },
  {
   "cell_type": "code",
   "execution_count": 4,
   "metadata": {
    "collapsed": false
   },
   "outputs": [],
   "source": [
    "class MNIST(fluid.dygraph.Layer):\r\n",
    "    def __init__(self):\r\n",
    "        super(MNIST, self).__init__()\r\n",
    "\r\n",
    "        # class paddle.fluid.dygraph.Conv2D(num_channels, num_filters, filter_size, stride=1, padding=0, dilation=1, groups=None, param_attr=None, bias_attr=None, use_cudnn=True, act=None, dtype='float32')\r\n",
    "        self.conv2d_1 = Conv2D(1,20,5,use_cudnn=USE_CUDA,act=ACT,)\r\n",
    "        # class paddle.fluid.dygraph.Pool2D(pool_size=-1, pool_type='max', pool_stride=1, pool_padding=0, global_pooling=False, use_cudnn=True, ceil_mode=False, exclusive=True)\r\n",
    "        self.pool_1 = Pool2D(2, pool_stride=2,)\r\n",
    "        \r\n",
    "        self.conv2d_2 = Conv2D(20,50,5,use_cudnn=USE_CUDA,act=ACT,)\r\n",
    "\r\n",
    "        self.pool_2 = Pool2D(2, pool_stride=2,)\r\n",
    "\r\n",
    "        self.pool_2_shape = 50*4*4\r\n",
    "\r\n",
    "        # Defining the parameters of the full connection layer\r\n",
    "        self.output_weight = self.create_parameter([self.pool_2_shape, 10])\r\n",
    "\r\n",
    "    def forward(self, inputs, label=None):\r\n",
    "        x = self.conv2d_1(inputs)\r\n",
    "        x = self.pool_2(x)\r\n",
    "        x = self.conv2d_2(x)\r\n",
    "        x = self.pool_2(x)\r\n",
    "\r\n",
    "        # forward calc\r\n",
    "        x = fluid.layers.reshape(x, shape=[-1, self.pool_2_shape])\r\n",
    "        x = fluid.layers.matmul(x, self.output_weight)\r\n",
    "        x = fluid.layers.softmax(x)\r\n",
    "        if label is not None:\r\n",
    "            acc = fluid.layers.accuracy(input=x, label=label)\r\n",
    "            return x, acc\r\n",
    "        else:\r\n",
    "            return x\r\n",
    "\r\n",
    "\r\n",
    "\r\n"
   ]
  },
  {
   "cell_type": "code",
   "execution_count": 11,
   "metadata": {
    "collapsed": false
   },
   "outputs": [],
   "source": [
    "\r\n",
    "\r\n",
    "with fluid.dygraph.guard():\r\n",
    "    mnist = MNIST()\r\n",
    "    # defining Optimizer as Adam\r\n",
    "    adam = AdamOptimizer(learning_rate=RL, parameter_list=mnist.parameters())\r\n",
    "\r\n",
    "    # train\r\n",
    "    for epoch in range(EPOCHS):\r\n",
    "        for batch_id, data in enumerate(train_reader()):\r\n",
    "\r\n",
    "            # each batch contain data and label\r\n",
    "            dy_x_data = np.array([x[0].reshape(1, 28, 28) for x in data]).astype('float32')\r\n",
    "            y_data = np.array([x[1] for x in data]).astype('int64').reshape(-1, 1)\r\n",
    "\r\n",
    "            # Convert data to Paddle variable\r\n",
    "            img = to_variable(dy_x_data)\r\n",
    "            label = to_variable(y_data)\r\n",
    "\r\n",
    "            # forward\r\n",
    "            cost, acc = mnist(img, label)\r\n",
    "\r\n",
    "            # loss\r\n",
    "            loss = fluid.layers.cross_entropy(cost, label)\r\n",
    "            avg_loss = fluid.layers.mean(loss)\r\n",
    "\r\n",
    "            # backward\r\n",
    "            avg_loss.backward()\r\n",
    "\r\n",
    "            adam.minimize(avg_loss)\r\n",
    "\r\n",
    "            # clear grad\r\n",
    "            mnist.clear_gradients()\r\n",
    "\r\n",
    "            if batch_id % 100 == 0:\r\n",
    "                print(\"Loss at epoch {} step {}: {:}\".format(\r\n",
    "                    epoch, batch_id, avg_loss.numpy()))\r\n",
    "\r\n",
    "    # save model\r\n",
    "    model_dict = mnist.state_dict()\r\n",
    "    fluid.save_dygraph(model_dict, \"save_temp\")"
   ]
  },
  {
   "cell_type": "code",
   "execution_count": null,
   "metadata": {
    "collapsed": false
   },
   "outputs": [],
   "source": []
  }
 ],
 "metadata": {
  "kernelspec": {
   "display_name": "PaddlePaddle 1.8.0 (Python 3.5)",
   "language": "python",
   "name": "py35-paddle1.2.0"
  },
  "language_info": {
   "codemirror_mode": {
    "name": "ipython",
    "version": 3
   },
   "file_extension": ".py",
   "mimetype": "text/x-python",
   "name": "python",
   "nbconvert_exporter": "python",
   "pygments_lexer": "ipython3",
   "version": "3.7.4"
  }
 },
 "nbformat": 4,
 "nbformat_minor": 1
}
